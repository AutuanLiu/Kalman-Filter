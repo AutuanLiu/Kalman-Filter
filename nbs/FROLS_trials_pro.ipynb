{
 "cells": [
  {
   "cell_type": "code",
   "execution_count": 1,
   "metadata": {},
   "outputs": [],
   "source": [
    "%matplotlib inline\n",
    "%reload_ext autoreload\n",
    "%autoreload 2\n",
    "# 多行输出\n",
    "from IPython.core.interactiveshell import InteractiveShell\n",
    "InteractiveShell.ast_node_interactivity = \"all\" "
   ]
  },
  {
   "cell_type": "code",
   "execution_count": 2,
   "metadata": {},
   "outputs": [],
   "source": [
    "import numpy as np\n",
    "from tqdm import trange, tqdm, tqdm_notebook\n",
    "import scipy.io as sio\n",
    "from kalman_estimation import Selector, get_mat_data"
   ]
  },
  {
   "cell_type": "markdown",
   "metadata": {},
   "source": [
    "- matlab 代码\n",
    "```matlab\n",
    "f_name = [data_root, 'FROLS_', int2str(ndim), flag, '_est100_', sprintf('%2.2f', err_var), '.mat'];\n",
    "save(f_name, 'coef_est100', 'terms_chosen100', 'ERRs100', 'mean_coef', 'var_coef');\n",
    "```"
   ]
  },
  {
   "cell_type": "code",
   "execution_count": 3,
   "metadata": {},
   "outputs": [],
   "source": [
    "con_terms_linear5 = ['x1(t-1)', 'x1(t-2)', 'x1(t-2)', 'x1(t-3)', 'x1(t-2)', 'x4(t-1)', 'x5(t-1)', 'x4(t-1)', 'x5(t-1)']  # 9\n",
    "con_terms_nonlinear5 = ['x1(t-1)', 'x1(t-2)', 'x1(t-2)*x1(t-2)', 'x1(t-3)', 'x1(t-2)*x1(t-2)', 'x4(t-1)', 'x5(t-1)', 'x4(t-1)', 'x5(t-1)']  # 9\n",
    "true_coefs5 = [0.95*np.sqrt(2), -0.9025, 0.5, -0.4, -0.5, 0.25*np.sqrt(2), 0.25*np.sqrt(2), -0.25*np.sqrt(2), 0.25*np.sqrt(2)]  # 9\n",
    "con_terms_linear10 = ['x1(t-1)', 'x1(t-2)', 'x1(t-2)', 'x2(t-3)', 'x1(t-2)', 'x4(t-4)', 'x9(t-2)', 'x4(t-4)', 'x1(t-1)', 'x1(t-2)', 'x7(t-2)', \n",
    "                      'x8(t-3)', 'x9(t-3)', 'x8(t-3)', 'x9(t-3)', 'x7(t-4)']  # 16\n",
    "con_terms_nonlinear10 = ['x1(t-1)', 'x1(t-2)', 'x1(t-2)*x1(t-2)', 'x2(t-3)', 'x1(t-2)', 'x4(t-4)', 'x9(t-2)', 'x4(t-4)', 'x1(t-1)*x1(t-2)', 'x1(t-2)', 'x7(t-2)', \n",
    "                      'x8(t-3)', 'x9(t-3)', 'x8(t-3)', 'x9(t-3)', 'x7(t-4)']  # 16\n",
    "true_coefs10 = [0.95*np.sqrt(2), -0.9025, 0.5, 0.9, -0.5, 0.8, -0.4, -0.8, 0.4, -0.4, -0.9, 0.4, 0.3, -0.3, 0.4, -0.75]  # 16\n",
    "noises = np.linspace(0.5, 4, 8)\n",
    "con_terms5 = [2, 1, 1, 3, 2]\n",
    "con_terms10 = [2, 1, 1, 1, 2, 1, 2, 3, 2, 1]\n",
    "root = '../data/'"
   ]
  },
  {
   "cell_type": "code",
   "execution_count": 4,
   "metadata": {},
   "outputs": [],
   "source": [
    "def corr_term(y_coef, terms_set, Kalman_S_No, var_name: str = 'x', step_name: str = 't'):\n",
    "    n_dim, n_term = y_coef.shape\n",
    "    func_repr = []\n",
    "    for var in range(n_dim):\n",
    "        y = {}\n",
    "        for term in range(n_term):\n",
    "            y[terms_set[Kalman_S_No[var, term]]] = y_coef[var, term]\n",
    "        func_repr.append(y)\n",
    "    return func_repr"
   ]
  },
  {
   "cell_type": "code",
   "execution_count": 15,
   "metadata": {},
   "outputs": [],
   "source": [
    "def frols(noise_var, ndim, dtype, terms, length, root='../data/', trials=100):\n",
    "    assert dtype in ['linear', 'nonlinear'], 'type not support!'\n",
    "    terms_path = root + f'FROLS_{ndim}{dtype}_est100_{noise_var:2.2f}.mat'\n",
    "    terms_pathx = root + f'{dtype}_terms{ndim}D_0.50trial1.mat'\n",
    "    term = Selector(terms_pathx)\n",
    "    candidate_terms = term.make_terms()\n",
    "    y_coef = get_mat_data(terms_path, 'coef_est100')\n",
    "    Kalman_S_No = get_mat_data(terms_path, 'terms_chosen100')\n",
    "    flatten_coef = []\n",
    "    for trial in trange(trials):\n",
    "        ax, t, S_No = [], 0, Kalman_S_No[trial] - 1\n",
    "        for i in range(ndim):\n",
    "            terms_set = corr_term(y_coef[trial], candidate_terms, S_No)\n",
    "            tmp = []\n",
    "            for k in terms[t:t+length[i]]:\n",
    "                tmp.append(terms_set[i][k] if k in terms_set[i] else np.nan)\n",
    "            ax.extend(tmp)\n",
    "            t += length[i]\n",
    "        flatten_coef.append(ax)\n",
    "    return np.stack(flatten_coef)"
   ]
  },
  {
   "cell_type": "code",
   "execution_count": 16,
   "metadata": {},
   "outputs": [],
   "source": [
    "terms_pathx = root + f'linear_terms5D_0.50trial1.mat'\n",
    "term = Selector(terms_pathx)\n",
    "candidate_terms = term.make_terms()"
   ]
  },
  {
   "cell_type": "code",
   "execution_count": 17,
   "metadata": {},
   "outputs": [],
   "source": [
    "term_dict = {t:i for i, t in enumerate(candidate_terms)}"
   ]
  },
  {
   "cell_type": "code",
   "execution_count": 23,
   "metadata": {},
   "outputs": [
    {
     "name": "stderr",
     "output_type": "stream",
     "text": [
      "100%|██████████| 1/1 [00:00<00:00, 806.13it/s]\n"
     ]
    },
    {
     "data": {
      "text/plain": [
       "array([[ 1.34590727, -0.90030045,  0.50116825, -0.40483858, -0.5013467 ,\n",
       "         0.34502312,  0.3390138 , -0.35082569,  0.36173356]])"
      ]
     },
     "execution_count": 23,
     "metadata": {},
     "output_type": "execute_result"
    }
   ],
   "source": [
    "coef = frols(2.5, 5, 'nonlinear', con_terms_nonlinear5, con_terms5, trials=1)\n",
    "coef"
   ]
  },
  {
   "cell_type": "code",
   "execution_count": 19,
   "metadata": {},
   "outputs": [
    {
     "data": {
      "text/plain": [
       "(1, 9)"
      ]
     },
     "execution_count": 19,
     "metadata": {},
     "output_type": "execute_result"
    }
   ],
   "source": [
    "coef.shape"
   ]
  },
  {
   "cell_type": "code",
   "execution_count": 20,
   "metadata": {},
   "outputs": [
    {
     "data": {
      "text/plain": [
       "array([0., 0., 0., 0., 0., 0., 0., 0., 0.])"
      ]
     },
     "execution_count": 20,
     "metadata": {},
     "output_type": "execute_result"
    }
   ],
   "source": [
    "coef.var(0)"
   ]
  },
  {
   "cell_type": "code",
   "execution_count": 21,
   "metadata": {},
   "outputs": [
    {
     "data": {
      "text/plain": [
       "array([ 1.34590727, -0.90030045,  0.50116825, -0.40483858, -0.5013467 ,\n",
       "        0.34502312,  0.3390138 , -0.35082569,  0.36173356])"
      ]
     },
     "execution_count": 21,
     "metadata": {},
     "output_type": "execute_result"
    }
   ],
   "source": [
    "coef.mean(0)"
   ]
  },
  {
   "cell_type": "code",
   "execution_count": null,
   "metadata": {},
   "outputs": [],
   "source": []
  }
 ],
 "metadata": {
  "kernelspec": {
   "display_name": "Python 3",
   "language": "python",
   "name": "python3"
  },
  "language_info": {
   "codemirror_mode": {
    "name": "ipython",
    "version": 3
   },
   "file_extension": ".py",
   "mimetype": "text/x-python",
   "name": "python",
   "nbconvert_exporter": "python",
   "pygments_lexer": "ipython3",
   "version": "3.6.6"
  }
 },
 "nbformat": 4,
 "nbformat_minor": 2
}
