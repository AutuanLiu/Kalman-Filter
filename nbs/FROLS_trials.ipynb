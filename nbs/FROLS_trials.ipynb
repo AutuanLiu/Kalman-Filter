{
 "cells": [
  {
   "cell_type": "code",
   "execution_count": 17,
   "metadata": {},
   "outputs": [],
   "source": [
    "%matplotlib inline\n",
    "%reload_ext autoreload\n",
    "%autoreload 2\n",
    "# 多行输出\n",
    "from IPython.core.interactiveshell import InteractiveShell\n",
    "InteractiveShell.ast_node_interactivity = \"all\" "
   ]
  },
  {
   "cell_type": "code",
   "execution_count": 18,
   "metadata": {},
   "outputs": [],
   "source": [
    "import numpy as np\n",
    "from tqdm import trange, tqdm, tqdm_notebook\n",
    "from utils import frols\n",
    "import scipy.io as sio"
   ]
  },
  {
   "cell_type": "markdown",
   "metadata": {},
   "source": [
    "- 配置"
   ]
  },
  {
   "cell_type": "code",
   "execution_count": 19,
   "metadata": {},
   "outputs": [],
   "source": [
    "con_terms_linear5 = ['x1(t-1)', 'x1(t-2)', 'x1(t-2)', 'x1(t-3)', 'x1(t-2)', 'x4(t-1)', 'x5(t-1)', 'x4(t-1)', 'x5(t-1)']  # 9\n",
    "con_terms_nonlinear5 = ['x1(t-1)', 'x1(t-2)', 'x1(t-2)*x1(t-2)', 'x1(t-3)', 'x1(t-2)*x1(t-2)', 'x4(t-1)', 'x5(t-1)', 'x4(t-1)', 'x5(t-1)']  # 9\n",
    "true_coefs5 = [0.95*np.sqrt(2), -0.9025, 0.5, -0.4, -0.5, 0.25*np.sqrt(2), 0.25*np.sqrt(2), -0.25*np.sqrt(2), 0.25*np.sqrt(2)]  # 9\n",
    "con_terms_linear10 = ['x1(t-1)', 'x1(t-2)', 'x1(t-2)', 'x2(t-3)', 'x1(t-2)', 'x4(t-4)', 'x9(t-2)', 'x4(t-4)', 'x1(t-1)', 'x1(t-2)', 'x7(t-2)', \n",
    "                      'x8(t-3)', 'x9(t-3)', 'x8(t-3)', 'x9(t-3)', 'x7(t-4)']  # 16\n",
    "con_terms_nonlinear10 = ['x1(t-1)', 'x1(t-2)', 'x1(t-2)*x1(t-2)', 'x2(t-3)', 'x1(t-2)', 'x4(t-4)', 'x9(t-2)', 'x4(t-4)', 'x1(t-1)*x1(t-2)', 'x1(t-2)', 'x7(t-2)', \n",
    "                      'x8(t-3)', 'x9(t-3)', 'x8(t-3)', 'x9(t-3)', 'x7(t-4)']  # 16\n",
    "true_coefs10 = [0.95*np.sqrt(2), -0.9025, 0.5, 0.9, -0.5, 0.8, -0.4, -0.8, 0.4, -0.4, -0.9, 0.4, 0.3, -0.3, 0.4, -0.75]  # 16\n",
    "noises = np.linspace(0.5, 4, 8)\n",
    "con_terms5 = [2, 1, 1, 3, 2]\n",
    "con_terms10 = [2, 1, 1, 1, 2, 1, 2, 3, 2, 1]\n",
    "root = '../data/'"
   ]
  },
  {
   "cell_type": "markdown",
   "metadata": {},
   "source": [
    "- 批量计算"
   ]
  },
  {
   "cell_type": "code",
   "execution_count": 20,
   "metadata": {},
   "outputs": [
    {
     "name": "stderr",
     "output_type": "stream",
     "text": [
      "100%|██████████| 1/1 [00:00<00:00, 2576.35it/s]\n",
      "100%|██████████| 1/1 [00:00<00:00, 2211.02it/s]\n",
      "100%|██████████| 1/1 [00:00<00:00, 3765.08it/s]\n",
      "100%|██████████| 1/1 [00:00<00:00, 4181.76it/s]\n",
      "100%|██████████| 1/1 [00:00<00:00, 3489.44it/s]\n",
      "100%|██████████| 1/1 [00:00<00:00, 5518.82it/s]\n",
      "100%|██████████| 1/1 [00:00<00:00, 3429.52it/s]\n",
      "100%|██████████| 1/1 [00:00<00:00, 5197.40it/s]\n",
      "100%|██████████| 1/1 [00:00<00:00, 2654.62it/s]\n",
      "100%|██████████| 1/1 [00:00<00:00, 1979.38it/s]\n",
      "100%|██████████| 1/1 [00:00<00:00, 779.32it/s]\n",
      "100%|██████████| 1/1 [00:00<00:00, 2498.10it/s]\n",
      "100%|██████████| 1/1 [00:00<00:00, 2616.53it/s]\n",
      "100%|██████████| 1/1 [00:00<00:00, 2250.16it/s]\n",
      "100%|██████████| 1/1 [00:00<00:00, 2545.09it/s]\n",
      "100%|██████████| 1/1 [00:00<00:00, 863.91it/s]\n",
      "100%|██████████| 1/1 [00:00<00:00, 4760.84it/s]\n",
      "100%|██████████| 1/1 [00:00<00:00, 5084.00it/s]\n",
      "100%|██████████| 1/1 [00:00<00:00, 4337.44it/s]\n",
      "100%|██████████| 1/1 [00:00<00:00, 4798.97it/s]\n",
      "100%|██████████| 1/1 [00:00<00:00, 4100.00it/s]\n",
      "100%|██████████| 1/1 [00:00<00:00, 4922.89it/s]\n",
      "100%|██████████| 1/1 [00:00<00:00, 2743.17it/s]\n",
      "100%|██████████| 1/1 [00:00<00:00, 4854.52it/s]\n",
      "100%|██████████| 1/1 [00:00<00:00, 2387.20it/s]\n",
      "100%|██████████| 1/1 [00:00<00:00, 1883.39it/s]\n",
      "100%|██████████| 1/1 [00:00<00:00, 1773.49it/s]\n",
      "100%|██████████| 1/1 [00:00<00:00, 2449.94it/s]\n",
      "100%|██████████| 1/1 [00:00<00:00, 1628.86it/s]\n",
      "100%|██████████| 1/1 [00:00<00:00, 1833.17it/s]\n",
      "100%|██████████| 1/1 [00:00<00:00, 2251.37it/s]\n",
      "100%|██████████| 1/1 [00:00<00:00, 2407.75it/s]\n"
     ]
    }
   ],
   "source": [
    "for dtype in ['linear', 'nonlinear']:\n",
    "    for ndim in [5, 10]:\n",
    "        for noise_var in noises:\n",
    "            ret = frols(noise_var, ndim, dtype, eval(f\"con_terms_{dtype}{ndim}\"), eval(f\"con_terms{ndim}\"), trials=1)\n",
    "            sio.savemat(f\"{root}FROLS_{dtype}{ndim}D_{noise_var:2.2f}\", {'frols_coef': ret})"
   ]
  },
  {
   "cell_type": "code",
   "execution_count": 21,
   "metadata": {},
   "outputs": [
    {
     "data": {
      "text/plain": [
       "\u001b[0;31mSignature:\u001b[0m \u001b[0msum\u001b[0m\u001b[0;34m(\u001b[0m\u001b[0miterable\u001b[0m\u001b[0;34m,\u001b[0m \u001b[0mstart\u001b[0m\u001b[0;34m=\u001b[0m\u001b[0;36m0\u001b[0m\u001b[0;34m,\u001b[0m \u001b[0;34m/\u001b[0m\u001b[0;34m)\u001b[0m\u001b[0;34m\u001b[0m\u001b[0m\n",
       "\u001b[0;31mDocstring:\u001b[0m\n",
       "Return the sum of a 'start' value (default: 0) plus an iterable of numbers\n",
       "\n",
       "When the iterable is empty, return the start value.\n",
       "This function is intended specifically for use with numeric values and may\n",
       "reject non-numeric types.\n",
       "\u001b[0;31mType:\u001b[0m      builtin_function_or_method\n"
      ]
     },
     "metadata": {},
     "output_type": "display_data"
    }
   ],
   "source": [
    "sum??"
   ]
  },
  {
   "cell_type": "code",
   "execution_count": null,
   "metadata": {},
   "outputs": [],
   "source": []
  }
 ],
 "metadata": {
  "kernelspec": {
   "display_name": "Python 3",
   "language": "python",
   "name": "python3"
  },
  "language_info": {
   "codemirror_mode": {
    "name": "ipython",
    "version": 3
   },
   "file_extension": ".py",
   "mimetype": "text/x-python",
   "name": "python",
   "nbconvert_exporter": "python",
   "pygments_lexer": "ipython3",
   "version": "3.6.6"
  }
 },
 "nbformat": 4,
 "nbformat_minor": 2
}
