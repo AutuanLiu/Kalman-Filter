{
 "cells": [
  {
   "cell_type": "code",
   "execution_count": 46,
   "metadata": {},
   "outputs": [],
   "source": [
    "%matplotlib inline\n",
    "%reload_ext autoreload\n",
    "%autoreload 2\n",
    "# 多行输出\n",
    "from IPython.core.interactiveshell import InteractiveShell\n",
    "InteractiveShell.ast_node_interactivity = \"all\" "
   ]
  },
  {
   "cell_type": "code",
   "execution_count": 47,
   "metadata": {},
   "outputs": [],
   "source": [
    "import numpy as np\n",
    "from kalman_estimation import Kalman4FROLS, Selector, get_mat_data\n",
    "from tqdm import tqdm, trange\n",
    "from utils import get_term_dict"
   ]
  },
  {
   "cell_type": "code",
   "execution_count": 48,
   "metadata": {},
   "outputs": [
    {
     "name": "stdout",
     "output_type": "stream",
     "text": [
      "[[ 0.03743781  1.3334661  -0.92166921  0.04183537  0.03789484]\n",
      " [ 0.48603659 -0.02310091  0.03083104  0.03444931 -0.01202319]\n",
      " [-0.3819153   0.01602031 -0.02170508  0.03269865 -0.00192067]\n",
      " [-0.53190126  0.32169573  0.36214341  0.03834424  0.03340586]\n",
      " [-0.33967525  0.30404482 -0.03174397  0.03070906 -0.02741767]]\n"
     ]
    }
   ],
   "source": [
    "# !非线性模型\n",
    "# *非线性数据\n",
    "terms_path = '../data/linear_terms5D_0.50trial1.mat'\n",
    "term = Selector(terms_path)\n",
    "_ = term.make_terms()\n",
    "\n",
    "# # *保存候选项集合\n",
    "# # fname = './data/nonlinear_candidate_terms.txt'\n",
    "# fname = './data/longlag_nonlinear_candidate_terms.txt'\n",
    "# np.savetxt(fname, terms_repr, fmt='%s')\n",
    "\n",
    "# *selection\n",
    "normalized_signals, Kalman_H, candidate_terms, Kalman_S_No = term.make_selection()\n",
    "\n",
    "# *构造 Kalman Filter\n",
    "kf = Kalman4FROLS(normalized_signals, Kalman_H=Kalman_H, uc=0.01)\n",
    "y_coef = kf.estimate_coef()\n",
    "print(y_coef)"
   ]
  },
  {
   "cell_type": "code",
   "execution_count": 49,
   "metadata": {},
   "outputs": [],
   "source": [
    "con_terms_linear5 = ['x1(t-1)', 'x1(t-2)', 'x1(t-2)', 'x1(t-3)', 'x1(t-2)', 'x4(t-1)', 'x5(t-1)', 'x4(t-1)', 'x5(t-1)']  # 9\n",
    "con_terms_nonlinear5 = ['x1(t-1)', 'x1(t-2)', 'x1(t-2)*x1(t-2)', 'x1(t-3)', 'x1(t-2)*x1(t-2)', 'x4(t-1)', 'x5(t-1)', 'x4(t-1)', 'x5(t-1)']  # 9\n",
    "true_coefs5 = [0.95*np.sqrt(2), -0.9025, 0.5, -0.4, -0.5, 0.25*np.sqrt(2), 0.25*np.sqrt(2), -0.25*np.sqrt(2), 0.25*np.sqrt(2)]  # 9\n",
    "con_terms_linear10 = ['x1(t-1)', 'x1(t-2)', 'x1(t-2)', 'x2(t-3)', 'x1(t-2)', 'x4(t-4)', 'x9(t-2)', 'x4(t-4)', 'x1(t-1)', 'x1(t-2)', 'x7(t-2)', \n",
    "                      'x8(t-3)', 'x9(t-3)', 'x8(t-3)', 'x9(t-3)', 'x7(t-4)']  # 16\n",
    "con_terms_nonlinear10 = ['x1(t-1)', 'x1(t-2)', 'x1(t-2)*x1(t-2)', 'x2(t-3)', 'x1(t-2)', 'x4(t-4)', 'x9(t-2)', 'x4(t-4)', 'x1(t-1)*x1(t-2)', 'x1(t-2)', 'x7(t-2)', \n",
    "                      'x8(t-3)', 'x9(t-3)', 'x8(t-3)', 'x9(t-3)', 'x7(t-4)']  # 16\n",
    "true_coefs10 = [0.95*np.sqrt(2), -0.9025, 0.5, 0.9, -0.5, 0.8, -0.4, -0.8, 0.4, -0.4, -0.9, 0.4, 0.3, -0.3, 0.4, -0.75]  # 16\n",
    "noises = np.linspace(0.5, 4, 8)\n",
    "con_terms5 = [2, 1, 1, 3, 2]\n",
    "con_terms10 = [2, 1, 1, 1, 2, 1, 2, 3, 2, 1]\n",
    "root = '../data/'"
   ]
  },
  {
   "cell_type": "code",
   "execution_count": 50,
   "metadata": {},
   "outputs": [],
   "source": [
    "term_dict1, term_dict2 = get_term_dict('nonlinear', 5)"
   ]
  },
  {
   "cell_type": "markdown",
   "metadata": {},
   "source": [
    "- 形式参数\n",
    "    - noise_var\n",
    "    - trial\n",
    "    - ndim\n",
    "    - type\n",
    "    - uc"
   ]
  },
  {
   "cell_type": "code",
   "execution_count": 51,
   "metadata": {},
   "outputs": [],
   "source": [
    "def corr_term(y_coef, terms_set, Kalman_S_No, var_name: str = 'x', step_name: str = 't'):\n",
    "    n_dim, n_term = y_coef.shape\n",
    "    func_repr = []\n",
    "    for var in range(n_dim):\n",
    "        y = {}\n",
    "        for term in range(n_term):\n",
    "            y[terms_set[Kalman_S_No[var, term]]] = y_coef[var, term]\n",
    "        func_repr.append(y)\n",
    "    return func_repr"
   ]
  },
  {
   "cell_type": "markdown",
   "metadata": {},
   "source": [
    "- frokf 存在一个状态的随机初始化\n",
    "- 应该多次试验去平均值 ntest设置FROKF进行的实验次数,trials设置的是整体的实验次数"
   ]
  },
  {
   "cell_type": "code",
   "execution_count": 52,
   "metadata": {},
   "outputs": [],
   "source": [
    "def frokf(noise_var, ndim, dtype, terms, length, root='../data/', trials=100, uc=0.01, ntest=50):\n",
    "    assert dtype in ['linear', 'nonlinear'], 'type not support!'\n",
    "    ax = []\n",
    "    for trial in range(1, trials + 1):\n",
    "        terms_path = root + f'{dtype}_terms{ndim}D_{noise_var:2.2f}trial{trial}.mat'\n",
    "        term = Selector(terms_path)\n",
    "        _ = term.make_terms()\n",
    "        normalized_signals, Kalman_H, candidate_terms, Kalman_S_No = term.make_selection()\n",
    "#         Kalman_S_No = np.sort(Kalman_S_No)\n",
    "        y_coef = 0\n",
    "        # 对FROKF多次实验取平均值\n",
    "        for _ in trange(ntest):\n",
    "            kf = Kalman4FROLS(normalized_signals, Kalman_H=Kalman_H, uc=uc)\n",
    "            y_coef += kf.estimate_coef()\n",
    "        y_coef /= ntest\n",
    "        terms_set = corr_term(y_coef, candidate_terms, Kalman_S_No)\n",
    "        flatten_coef, t = [], 0\n",
    "        for i in range(ndim):\n",
    "            tmp = []\n",
    "            for k in terms[t:t+length[i]]:\n",
    "                tmp.append(terms_set[i][k] if k in terms_set[i] else np.nan)\n",
    "            flatten_coef.extend(tmp)\n",
    "            t += length[i]\n",
    "        ax.append(flatten_coef)\n",
    "    return np.stack(ax)"
   ]
  },
  {
   "cell_type": "code",
   "execution_count": 53,
   "metadata": {},
   "outputs": [
    {
     "data": {
      "text/plain": [
       "array([[0., 0., 0., 0., 0.],\n",
       "       [0., 0., 0., 0., 0.],\n",
       "       [0., 0., 0., 0., 0.],\n",
       "       [0., 0., 0., 0., 0.],\n",
       "       [0., 0., 0., 0., 0.]])"
      ]
     },
     "execution_count": 53,
     "metadata": {},
     "output_type": "execute_result"
    }
   ],
   "source": [
    "np.zeros((5, 5))"
   ]
  },
  {
   "cell_type": "code",
   "execution_count": 54,
   "metadata": {},
   "outputs": [
    {
     "data": {
      "text/plain": [
       "array(['x1(t-1)', 'x1(t-2)', 'x1(t-3)', 'x1(t-4)', 'x1(t-5)', 'x2(t-1)',\n",
       "       'x2(t-2)', 'x2(t-3)', 'x2(t-4)', 'x2(t-5)', 'x3(t-1)', 'x3(t-2)',\n",
       "       'x3(t-3)', 'x3(t-4)', 'x3(t-5)', 'x4(t-1)', 'x4(t-2)', 'x4(t-3)',\n",
       "       'x4(t-4)', 'x4(t-5)', 'x5(t-1)', 'x5(t-2)', 'x5(t-3)', 'x5(t-4)',\n",
       "       'x5(t-5)'], dtype='<U7')"
      ]
     },
     "execution_count": 54,
     "metadata": {},
     "output_type": "execute_result"
    }
   ],
   "source": [
    "candidate_terms"
   ]
  },
  {
   "cell_type": "code",
   "execution_count": 55,
   "metadata": {},
   "outputs": [
    {
     "data": {
      "text/plain": [
       "50"
      ]
     },
     "execution_count": 55,
     "metadata": {},
     "output_type": "execute_result"
    },
    {
     "data": {
      "text/plain": [
       "'x1(t-4)*x2(t-2)'"
      ]
     },
     "execution_count": 55,
     "metadata": {},
     "output_type": "execute_result"
    }
   ],
   "source": [
    "term_dict1['x1(t-2)*x1(t-2)']\n",
    "term_dict2[100]"
   ]
  },
  {
   "cell_type": "code",
   "execution_count": 57,
   "metadata": {},
   "outputs": [
    {
     "name": "stderr",
     "output_type": "stream",
     "text": [
      "100%|██████████| 50/50 [04:36<00:00,  5.66s/it]\n"
     ]
    },
    {
     "ename": "IndexError",
     "evalue": "list index out of range",
     "output_type": "error",
     "traceback": [
      "\u001b[0;31m---------------------------------------------------------------------------\u001b[0m",
      "\u001b[0;31mIndexError\u001b[0m                                Traceback (most recent call last)",
      "\u001b[0;32m<ipython-input-57-65559ffcae9a>\u001b[0m in \u001b[0;36m<module>\u001b[0;34m\u001b[0m\n\u001b[0;32m----> 1\u001b[0;31m \u001b[0mfrokf\u001b[0m\u001b[0;34m(\u001b[0m\u001b[0;36m4\u001b[0m\u001b[0;34m,\u001b[0m \u001b[0;36m10\u001b[0m\u001b[0;34m,\u001b[0m \u001b[0;34m'nonlinear'\u001b[0m\u001b[0;34m,\u001b[0m \u001b[0mcon_terms_linear5\u001b[0m\u001b[0;34m,\u001b[0m \u001b[0mcon_terms5\u001b[0m\u001b[0;34m,\u001b[0m \u001b[0muc\u001b[0m\u001b[0;34m=\u001b[0m\u001b[0;36m1e-6\u001b[0m\u001b[0;34m,\u001b[0m \u001b[0mtrials\u001b[0m\u001b[0;34m=\u001b[0m\u001b[0;36m50\u001b[0m\u001b[0;34m)\u001b[0m\u001b[0;34m\u001b[0m\u001b[0m\n\u001b[0m",
      "\u001b[0;32m<ipython-input-52-afcc4d611018>\u001b[0m in \u001b[0;36mfrokf\u001b[0;34m(noise_var, ndim, dtype, terms, length, root, trials, uc, ntest)\u001b[0m\n\u001b[1;32m     18\u001b[0m         \u001b[0;32mfor\u001b[0m \u001b[0mi\u001b[0m \u001b[0;32min\u001b[0m \u001b[0mrange\u001b[0m\u001b[0;34m(\u001b[0m\u001b[0mndim\u001b[0m\u001b[0;34m)\u001b[0m\u001b[0;34m:\u001b[0m\u001b[0;34m\u001b[0m\u001b[0m\n\u001b[1;32m     19\u001b[0m             \u001b[0mtmp\u001b[0m \u001b[0;34m=\u001b[0m \u001b[0;34m[\u001b[0m\u001b[0;34m]\u001b[0m\u001b[0;34m\u001b[0m\u001b[0m\n\u001b[0;32m---> 20\u001b[0;31m             \u001b[0;32mfor\u001b[0m \u001b[0mk\u001b[0m \u001b[0;32min\u001b[0m \u001b[0mterms\u001b[0m\u001b[0;34m[\u001b[0m\u001b[0mt\u001b[0m\u001b[0;34m:\u001b[0m\u001b[0mt\u001b[0m\u001b[0;34m+\u001b[0m\u001b[0mlength\u001b[0m\u001b[0;34m[\u001b[0m\u001b[0mi\u001b[0m\u001b[0;34m]\u001b[0m\u001b[0;34m]\u001b[0m\u001b[0;34m:\u001b[0m\u001b[0;34m\u001b[0m\u001b[0m\n\u001b[0m\u001b[1;32m     21\u001b[0m                 \u001b[0mtmp\u001b[0m\u001b[0;34m.\u001b[0m\u001b[0mappend\u001b[0m\u001b[0;34m(\u001b[0m\u001b[0mterms_set\u001b[0m\u001b[0;34m[\u001b[0m\u001b[0mi\u001b[0m\u001b[0;34m]\u001b[0m\u001b[0;34m[\u001b[0m\u001b[0mk\u001b[0m\u001b[0;34m]\u001b[0m \u001b[0;32mif\u001b[0m \u001b[0mk\u001b[0m \u001b[0;32min\u001b[0m \u001b[0mterms_set\u001b[0m\u001b[0;34m[\u001b[0m\u001b[0mi\u001b[0m\u001b[0;34m]\u001b[0m \u001b[0;32melse\u001b[0m \u001b[0mnp\u001b[0m\u001b[0;34m.\u001b[0m\u001b[0mnan\u001b[0m\u001b[0;34m)\u001b[0m\u001b[0;34m\u001b[0m\u001b[0m\n\u001b[1;32m     22\u001b[0m             \u001b[0mflatten_coef\u001b[0m\u001b[0;34m.\u001b[0m\u001b[0mextend\u001b[0m\u001b[0;34m(\u001b[0m\u001b[0mtmp\u001b[0m\u001b[0;34m)\u001b[0m\u001b[0;34m\u001b[0m\u001b[0m\n",
      "\u001b[0;31mIndexError\u001b[0m: list index out of range"
     ]
    }
   ],
   "source": [
    "frokf(4, 10, 'nonlinear', con_terms_linear5, con_terms5, uc=1e-6, trials=50)"
   ]
  },
  {
   "cell_type": "code",
   "execution_count": null,
   "metadata": {},
   "outputs": [],
   "source": [
    "np.array(con_terms_linear10)"
   ]
  },
  {
   "cell_type": "code",
   "execution_count": null,
   "metadata": {},
   "outputs": [],
   "source": [
    "np.empty((5,5), dtype='<U9')"
   ]
  },
  {
   "cell_type": "code",
   "execution_count": null,
   "metadata": {},
   "outputs": [],
   "source": [
    "uc_map = np.linspace(1e-3, 1e-6, num=8)\n",
    "uc_map"
   ]
  },
  {
   "cell_type": "markdown",
   "metadata": {},
   "source": [
    "- 调参"
   ]
  },
  {
   "cell_type": "code",
   "execution_count": null,
   "metadata": {},
   "outputs": [],
   "source": []
  }
 ],
 "metadata": {
  "kernelspec": {
   "display_name": "Python 3",
   "language": "python",
   "name": "python3"
  },
  "language_info": {
   "codemirror_mode": {
    "name": "ipython",
    "version": 3
   },
   "file_extension": ".py",
   "mimetype": "text/x-python",
   "name": "python",
   "nbconvert_exporter": "python",
   "pygments_lexer": "ipython3",
   "version": "3.6.6"
  }
 },
 "nbformat": 4,
 "nbformat_minor": 2
}
