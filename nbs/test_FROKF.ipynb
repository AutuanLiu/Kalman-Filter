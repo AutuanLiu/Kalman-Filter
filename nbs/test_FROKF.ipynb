{
 "cells": [
  {
   "cell_type": "code",
   "execution_count": 1,
   "metadata": {},
   "outputs": [],
   "source": [
    "%matplotlib inline\n",
    "%reload_ext autoreload\n",
    "%autoreload 2\n",
    "# 多行输出\n",
    "from IPython.core.interactiveshell import InteractiveShell\n",
    "InteractiveShell.ast_node_interactivity = \"all\" "
   ]
  },
  {
   "cell_type": "code",
   "execution_count": 5,
   "metadata": {},
   "outputs": [],
   "source": [
    "import numpy as np\n",
    "from kalman_estimation import Kalman4FROLS, Selector, get_mat_data"
   ]
  },
  {
   "cell_type": "code",
   "execution_count": 106,
   "metadata": {},
   "outputs": [
    {
     "name": "stdout",
     "output_type": "stream",
     "text": [
      "[[ 1.31689746 -0.88249692 -0.00705094  0.01153373  0.01596134]\n",
      " [ 0.85920768  0.03446802  0.04001234 -0.01373683  0.02436873]\n",
      " [ 0.02562259  0.84181459  0.03823484 -0.04389787  0.03792626]\n",
      " [-0.84437384  0.0120928  -0.03305907 -0.03405536  0.01621327]\n",
      " [-0.02753297  0.80194159  0.02365222 -0.23736773 -0.0259009 ]\n",
      " [-0.81876557 -0.02440997 -0.03343491 -0.0126235  -0.04247696]\n",
      " [ 0.95098928 -1.00494034  0.07815436 -0.05348226 -0.05207683]\n",
      " [-0.03093557 -0.73723245  0.38822377  0.23562854  0.02283931]\n",
      " [ 0.03932088 -0.36590503  0.36769913  0.04399609 -0.05922883]\n",
      " [-0.02863592 -0.66863637  0.0427592   0.02385565 -0.0433274 ]]\n"
     ]
    }
   ],
   "source": [
    "# !非线性模型\n",
    "# *非线性数据\n",
    "terms_path = '../data/linear_terms10D_0.50trial24.mat'\n",
    "term = Selector(terms_path)\n",
    "_ = term.make_terms()\n",
    "\n",
    "# # *保存候选项集合\n",
    "# # fname = './data/nonlinear_candidate_terms.txt'\n",
    "# fname = './data/longlag_nonlinear_candidate_terms.txt'\n",
    "# np.savetxt(fname, terms_repr, fmt='%s')\n",
    "\n",
    "# *selection\n",
    "normalized_signals, Kalman_H, candidate_terms, Kalman_S_No = term.make_selection()\n",
    "\n",
    "# *构造 Kalman Filter\n",
    "kf = Kalman4FROLS(normalized_signals, Kalman_H=Kalman_H, uc=0.01)\n",
    "y_coef = kf.estimate_coef()\n",
    "print(y_coef)"
   ]
  },
  {
   "cell_type": "markdown",
   "metadata": {},
   "source": [
    "- 形式参数\n",
    "    - noise_var\n",
    "    - trial\n",
    "    - ndim\n",
    "    - type\n",
    "    - uc"
   ]
  },
  {
   "cell_type": "code",
   "execution_count": 167,
   "metadata": {},
   "outputs": [],
   "source": [
    "def corr_term(y_coef, terms_set, Kalman_S_No, var_name: str = 'x', step_name: str = 't'):\n",
    "    n_dim, n_term = y_coef.shape\n",
    "    Kalman_S_No = np.sort(Kalman_S_No)\n",
    "    func_repr = []\n",
    "    for var in range(n_dim):\n",
    "        y = {}\n",
    "        for term in range(n_term):\n",
    "            y[terms_set[Kalman_S_No[var, term]]] = y_coef[var, term]\n",
    "        func_repr.append(y)\n",
    "    return func_repr"
   ]
  },
  {
   "cell_type": "code",
   "execution_count": 168,
   "metadata": {},
   "outputs": [],
   "source": [
    "def frokf(noise_var, trial, ndim, dtype, terms, length, root='../data/', uc=0.01):\n",
    "    assert dtype in ['linear', 'nonlinear'], 'type not support!'\n",
    "    terms_path = root + f'{dtype}_terms{ndim}D_{noise_var:2.2f}trial{trial}.mat'\n",
    "    term = Selector(terms_path)\n",
    "    _ = term.make_terms()\n",
    "    normalized_signals, Kalman_H, candidate_terms, Kalman_S_No = term.make_selection()\n",
    "    kf = Kalman4FROLS(normalized_signals, Kalman_H=Kalman_H, uc=uc)\n",
    "    y_coef = kf.estimate_coef()\n",
    "    terms_set = corr_term(y_coef, candidate_terms, Kalman_S_No)\n",
    "    flatten_coef, t = [], 0\n",
    "    for i in range(ndim):\n",
    "        flatten_coef.extend([terms_set[i][k] for k in terms[t:t+length[i]]])\n",
    "        t += length[i]\n",
    "    return flatten_coef"
   ]
  },
  {
   "cell_type": "code",
   "execution_count": 169,
   "metadata": {},
   "outputs": [],
   "source": [
    "con_terms_linear10 = ['x1(t-1)', 'x1(t-2)', 'x1(t-2)', 'x2(t-3)', 'x1(t-2)', 'x4(t-4)', 'x9(t-2)', 'x4(t-4)', 'x1(t-1)', 'x1(t-2)', 'x7(t-2)', \n",
    "                      'x8(t-3)', 'x9(t-3)', 'x8(t-3)', 'x9(t-3)', 'x7(t-4)']  # 16\n",
    "con_terms10 = [2, 1, 1, 1, 2, 1, 2, 3, 2, 1]"
   ]
  },
  {
   "cell_type": "code",
   "execution_count": 170,
   "metadata": {},
   "outputs": [
    {
     "data": {
      "text/plain": [
       "[1.3141547845426411,\n",
       " -0.8804174078314431,\n",
       " 0.858740029527661,\n",
       " 0.8424137516067541,\n",
       " -0.8444020811678504,\n",
       " 0.8023847374043557,\n",
       " -0.23757259452488289,\n",
       " -0.8189505388500772,\n",
       " 0.9533506486274645,\n",
       " -1.008815562381101,\n",
       " -0.7350306647401716,\n",
       " 0.3865331184451789,\n",
       " 0.23587828043024994,\n",
       " -0.36567205671621256,\n",
       " 0.36738771958190397,\n",
       " -0.6688729903288174]"
      ]
     },
     "execution_count": 170,
     "metadata": {},
     "output_type": "execute_result"
    }
   ],
   "source": [
    "frokf(0.5, 24, 10, 'linear', con_terms_linear10, con_terms10)"
   ]
  },
  {
   "cell_type": "code",
   "execution_count": null,
   "metadata": {},
   "outputs": [],
   "source": []
  }
 ],
 "metadata": {
  "kernelspec": {
   "display_name": "Python 3",
   "language": "python",
   "name": "python3"
  },
  "language_info": {
   "codemirror_mode": {
    "name": "ipython",
    "version": 3
   },
   "file_extension": ".py",
   "mimetype": "text/x-python",
   "name": "python",
   "nbconvert_exporter": "python",
   "pygments_lexer": "ipython3",
   "version": "3.6.6"
  }
 },
 "nbformat": 4,
 "nbformat_minor": 2
}
