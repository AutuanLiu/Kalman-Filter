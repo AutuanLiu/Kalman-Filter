{
 "cells": [
  {
   "cell_type": "code",
   "execution_count": 1,
   "metadata": {},
   "outputs": [],
   "source": [
    "%matplotlib inline\n",
    "%reload_ext autoreload\n",
    "%autoreload 2\n",
    "# 多行输出\n",
    "from IPython.core.interactiveshell import InteractiveShell\n",
    "InteractiveShell.ast_node_interactivity = \"all\" "
   ]
  },
  {
   "cell_type": "code",
   "execution_count": 2,
   "metadata": {},
   "outputs": [],
   "source": [
    "import numpy as np\n",
    "from tqdm import trange, tqdm, tqdm_notebook\n",
    "from utils import frokf\n",
    "import scipy.io as sio"
   ]
  },
  {
   "cell_type": "markdown",
   "metadata": {},
   "source": [
    "- 配置"
   ]
  },
  {
   "cell_type": "code",
   "execution_count": 3,
   "metadata": {},
   "outputs": [],
   "source": [
    "con_terms_linear5 = ['x1(t-1)', 'x1(t-2)', 'x1(t-2)', 'x1(t-3)', 'x1(t-2)', 'x4(t-1)', 'x5(t-1)', 'x4(t-1)', 'x5(t-1)']  # 9\n",
    "con_terms_nonlinear5 = ['x1(t-1)', 'x1(t-2)', 'x1(t-2)*x1(t-2)', 'x1(t-3)', 'x1(t-2)*x1(t-2)', 'x4(t-1)', 'x5(t-1)', 'x4(t-1)', 'x5(t-1)']  # 9\n",
    "true_coefs5 = [0.95*np.sqrt(2), -0.9025, 0.5, -0.4, -0.5, 0.25*np.sqrt(2), 0.25*np.sqrt(2), -0.25*np.sqrt(2), 0.25*np.sqrt(2)]  # 9\n",
    "con_terms_linear10 = ['x1(t-1)', 'x1(t-2)', 'x1(t-2)', 'x2(t-3)', 'x1(t-2)', 'x4(t-4)', 'x9(t-2)', 'x4(t-4)', 'x1(t-1)', 'x1(t-2)', 'x7(t-2)', \n",
    "                      'x8(t-3)', 'x9(t-3)', 'x8(t-3)', 'x9(t-3)', 'x7(t-4)']  # 16\n",
    "con_terms_nonlinear10 = ['x1(t-1)', 'x1(t-2)', 'x1(t-2)*x1(t-2)', 'x2(t-3)', 'x1(t-2)', 'x4(t-4)', 'x9(t-2)', 'x4(t-4)', 'x1(t-1)*x1(t-2)', 'x1(t-2)', 'x7(t-2)', \n",
    "                      'x8(t-3)', 'x9(t-3)', 'x8(t-3)', 'x9(t-3)', 'x7(t-4)']  # 16\n",
    "true_coefs10 = [0.95*np.sqrt(2), -0.9025, 0.5, 0.9, -0.5, 0.8, -0.4, -0.8, 0.4, -0.4, -0.9, 0.4, 0.3, -0.3, 0.4, -0.75]  # 16\n",
    "noises = np.linspace(0.5, 4, 8)\n",
    "con_terms5 = [2, 1, 1, 3, 2]\n",
    "con_terms10 = [2, 1, 1, 1, 2, 1, 2, 3, 2, 1]\n",
    "root = '../data/'"
   ]
  },
  {
   "cell_type": "markdown",
   "metadata": {},
   "source": [
    "- 批量计算"
   ]
  },
  {
   "cell_type": "markdown",
   "metadata": {},
   "source": [
    "- 使用统一的uc"
   ]
  },
  {
   "cell_type": "code",
   "execution_count": 4,
   "metadata": {},
   "outputs": [],
   "source": [
    "# for dtype in ['linear', 'nonlinear']:\n",
    "#     for ndim in [5]:\n",
    "#         for noise_var in noises:\n",
    "#             ret = frokf(noise_var, ndim, dtype, eval(f\"con_terms_{dtype}{ndim}\"), eval(f\"con_terms{ndim}\"), uc=1e-3, trials=1)\n",
    "#             sio.savemat(f\"{root}FROKF_{dtype}{ndim}D_{noise_var:2.2f}\", {'frokf_coef': ret})"
   ]
  },
  {
   "cell_type": "markdown",
   "metadata": {},
   "source": [
    "- 使用判别式uc"
   ]
  },
  {
   "cell_type": "code",
   "execution_count": 5,
   "metadata": {},
   "outputs": [],
   "source": [
    "# uc_map = np.linspace(1e-3, 1e-6, num=8)"
   ]
  },
  {
   "cell_type": "code",
   "execution_count": 6,
   "metadata": {},
   "outputs": [],
   "source": [
    "# for dtype in ['linear', 'nonlinear']:\n",
    "#     for ndim in [5]:\n",
    "#         for i, noise_var in enumerate(noises):\n",
    "#             ret = frokf(noise_var, ndim, dtype, eval(f\"con_terms_{dtype}{ndim}\"), eval(f\"con_terms{ndim}\"), uc=uc_map[i], trials=1)\n",
    "#             sio.savemat(f\"{root}FROKF_{dtype}{ndim}D_{noise_var:2.2f}\", {'frokf_coef': ret})"
   ]
  },
  {
   "cell_type": "markdown",
   "metadata": {},
   "source": [
    "- 使用特定的参数设置"
   ]
  },
  {
   "cell_type": "markdown",
   "metadata": {},
   "source": [
    "- 5 维10维的线性数据\n",
    "- 噪音 0.5"
   ]
  },
  {
   "cell_type": "code",
   "execution_count": 95,
   "metadata": {},
   "outputs": [
    {
     "name": "stderr",
     "output_type": "stream",
     "text": [
      "100%|██████████| 50/50 [01:00<00:00,  1.26s/it]\n"
     ]
    }
   ],
   "source": [
    "ret = frokf(0.5, 5, 'linear', eval(\"con_terms_linear5\"), eval(\"con_terms5\"), uc=1e-3, trials=1)\n",
    "sio.savemat(f\"{root}FROKF_linear5D_0.5\", {'frokf_coef': ret})"
   ]
  },
  {
   "cell_type": "code",
   "execution_count": 96,
   "metadata": {},
   "outputs": [
    {
     "data": {
      "text/plain": [
       "array([[ 1.38511949, -0.91469802,  0.47882673, -0.32186768, -0.50931883,\n",
       "         0.31663201,  0.35530175, -0.36486873,  0.2341879 ]])"
      ]
     },
     "execution_count": 96,
     "metadata": {},
     "output_type": "execute_result"
    }
   ],
   "source": [
    "ret"
   ]
  },
  {
   "cell_type": "code",
   "execution_count": 43,
   "metadata": {},
   "outputs": [
    {
     "name": "stderr",
     "output_type": "stream",
     "text": [
      "100%|██████████| 50/50 [02:27<00:00,  2.83s/it]\n"
     ]
    }
   ],
   "source": [
    "ret = frokf(4, 10, 'linear', eval(\"con_terms_linear10\"), eval(\"con_terms10\"), uc=1e-3, trials=1)\n",
    "sio.savemat(f\"{root}FROKF_linear10D_0.5\", {'frokf_coef': ret})"
   ]
  },
  {
   "cell_type": "code",
   "execution_count": 44,
   "metadata": {},
   "outputs": [
    {
     "data": {
      "text/plain": [
       "array([[ 1.30605212, -0.88008516,  0.50897688,  0.89033925, -0.49870483,\n",
       "         0.81999678, -0.37795632, -0.79086954,  0.42075397, -0.43759236,\n",
       "        -0.92560017,  0.4084558 ,  0.28450749, -0.30800012,  0.42194555,\n",
       "        -0.73661684]])"
      ]
     },
     "execution_count": 44,
     "metadata": {},
     "output_type": "execute_result"
    }
   ],
   "source": [
    "ret"
   ]
  },
  {
   "cell_type": "code",
   "execution_count": null,
   "metadata": {},
   "outputs": [],
   "source": []
  }
 ],
 "metadata": {
  "kernelspec": {
   "display_name": "Python 3",
   "language": "python",
   "name": "python3"
  },
  "language_info": {
   "codemirror_mode": {
    "name": "ipython",
    "version": 3
   },
   "file_extension": ".py",
   "mimetype": "text/x-python",
   "name": "python",
   "nbconvert_exporter": "python",
   "pygments_lexer": "ipython3",
   "version": "3.6.6"
  }
 },
 "nbformat": 4,
 "nbformat_minor": 2
}
